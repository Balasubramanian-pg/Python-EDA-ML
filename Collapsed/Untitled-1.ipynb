{
 "cells": [
  {
   "cell_type": "code",
   "execution_count": 17,
   "metadata": {},
   "outputs": [],
   "source": [
    "import tabula\n",
    "import pandas as pd\n",
    "import os\n",
    "from datetime import datetime"
   ]
  },
  {
   "cell_type": "code",
   "execution_count": 18,
   "metadata": {},
   "outputs": [],
   "source": [
    "def pdf_to_csv(pdf_file_path, output_directory):\n",
    "    # Create the output directory if it doesn't exist\n",
    "    os.makedirs(r\"C:\\Users\\ASUS\\Music\", exist_ok=True)"
   ]
  },
  {
   "cell_type": "code",
   "execution_count": 19,
   "metadata": {},
   "outputs": [],
   "source": [
    "# Read PDF file, including all pages\n",
    "tables = tabula.read_pdf(r\"C:\\Users\\ASUS\\Downloads\\Account Statement-1.pdf\", pages='all', multiple_tables=True)"
   ]
  },
  {
   "cell_type": "code",
   "execution_count": 20,
   "metadata": {},
   "outputs": [],
   "source": [
    "# Save each table as a separate CSV file\n",
    "for i, table in enumerate(tables):\n",
    "# Generate filename with current timestamp\n",
    "    timestamp = datetime.now().strftime(\"%Y%m%d_%H%M%S\")\n",
    "    filename = f\"table_{i+1}_{timestamp}.csv\"\n",
    "    file_path = os.path.join(r\"C:\\Users\\ASUS\\Music\", filename)"
   ]
  },
  {
   "cell_type": "code",
   "execution_count": 21,
   "metadata": {},
   "outputs": [
    {
     "name": "stdout",
     "output_type": "stream",
     "text": [
      "Saved: C:\\Users\\ASUS\\Music\\table_12_20240803_151042.csv\n"
     ]
    }
   ],
   "source": [
    "# Save the table as CSV\n",
    "table.to_csv(file_path, index=False)\n",
    "print(f\"Saved: {file_path}\")"
   ]
  }
 ],
 "metadata": {
  "kernelspec": {
   "display_name": "Python 3",
   "language": "python",
   "name": "python3"
  },
  "language_info": {
   "codemirror_mode": {
    "name": "ipython",
    "version": 3
   },
   "file_extension": ".py",
   "mimetype": "text/x-python",
   "name": "python",
   "nbconvert_exporter": "python",
   "pygments_lexer": "ipython3",
   "version": "3.12.4"
  }
 },
 "nbformat": 4,
 "nbformat_minor": 2
}
