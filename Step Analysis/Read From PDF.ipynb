{
 "cells": [
  {
   "cell_type": "code",
   "execution_count": 1,
   "metadata": {},
   "outputs": [
    {
     "ename": "ModuleNotFoundError",
     "evalue": "No module named 'PyPDF2'",
     "output_type": "error",
     "traceback": [
      "\u001b[1;31m---------------------------------------------------------------------------\u001b[0m",
      "\u001b[1;31mModuleNotFoundError\u001b[0m                       Traceback (most recent call last)",
      "\u001b[1;32m<ipython-input-1-c870e7b1275e>\u001b[0m in \u001b[0;36m<module>\u001b[1;34m\u001b[0m\n\u001b[0;32m      1\u001b[0m \u001b[1;31m#task 5 a)from PDF file\u001b[0m\u001b[1;33m\u001b[0m\u001b[1;33m\u001b[0m\u001b[1;33m\u001b[0m\u001b[0m\n\u001b[0;32m      2\u001b[0m \u001b[1;31m# importing required modules\u001b[0m\u001b[1;33m\u001b[0m\u001b[1;33m\u001b[0m\u001b[1;33m\u001b[0m\u001b[0m\n\u001b[1;32m----> 3\u001b[1;33m \u001b[1;32mimport\u001b[0m \u001b[0mPyPDF2\u001b[0m\u001b[1;33m\u001b[0m\u001b[1;33m\u001b[0m\u001b[0m\n\u001b[0m\u001b[0;32m      4\u001b[0m \u001b[1;32mimport\u001b[0m \u001b[0mre\u001b[0m\u001b[1;33m\u001b[0m\u001b[1;33m\u001b[0m\u001b[0m\n\u001b[0;32m      5\u001b[0m \u001b[1;33m\u001b[0m\u001b[0m\n",
      "\u001b[1;31mModuleNotFoundError\u001b[0m: No module named 'PyPDF2'"
     ]
    }
   ],
   "source": [
    "#task 5 a)from PDF file\n",
    "# importing required modules \n",
    "import PyPDF2 \n",
    "import re\n",
    "    \n",
    "# creating a pdf file object \n",
    "pdfFileObj = open('SAMPLE.pdf','rb') \n",
    "    \n",
    "# creating a pdf reader object \n",
    "pdfReader = PyPDF2.PdfFileReader(pdfFileObj) \n",
    "full_pdf=[]\n",
    "    \n",
    "# printing number of pages in pdf file \n",
    "total_page=pdfReader.numPages\n",
    "for i in range(0,total_page):\n",
    "    full_pdf.append(pdfReader.getPage(i).extractText())\n",
    "    \n",
    "contents='\\n'.join(full_pdf)\n",
    "# extracting text from page \n",
    "\n",
    "pattern='(?:\\+91)?[6-9][0-9]{9}'\n",
    "m=re.findall(pattern,contents)\n",
    "  \n",
    "# closing the pdf file object \n",
    "##pdfFileObj.close()\n",
    "from openpyxl import load_workbook\n",
    "wb=load_workbook(filename=\"contact_no.xlsx\")\n",
    "ws=wb.active\n",
    "ws[\"B1\"]=\"Mobile Numbers from PDF\"\n",
    "col=\"B\"\n",
    "index=2\n",
    "for index in range(2,len(m)+2):\n",
    "    cell=col+str(index)\n",
    "    ws[cell]=m[index-2]\n",
    "    index+=1\n",
    "wb.save(filename=\"contact_no.xlsx\")"
   ]
  },
  {
   "cell_type": "code",
   "execution_count": null,
   "metadata": {},
   "outputs": [],
   "source": []
  },
  {
   "cell_type": "code",
   "execution_count": 39,
   "metadata": {},
   "outputs": [
    {
     "name": "stdout",
     "output_type": "stream",
     "text": [
      "['7131642444', '8086678009', '+919665811983']\n"
     ]
    }
   ],
   "source": [
    "#task 5 b)from word file\n",
    "import re\n",
    "import docx\n",
    "file=docx.Document(\"test.docx\")\n",
    "fulltext=[]\n",
    "for para in file.paragraphs:\n",
    "    fulltext.append(para.text) \n",
    "content='\\n'.join(fulltext)\n",
    "pattern2=r\"(?:\\+91)?[6-9][0-9]{9}\"\n",
    "ph=re.findall(pattern2,content)\n",
    "print(ph)\n",
    "from openpyxl import load_workbook\n",
    "wb=load_workbook(filename=\"contact_no.xlsx\")\n",
    "ws=wb.active\n",
    "ws[\"D1\"]=\"Mobile numbers from MS-WORD\"\n",
    "col=\"D\"\n",
    "index=2\n",
    "for index in range(2,len(ph)+2):\n",
    "    cell=col+str(index)\n",
    "    ws[cell]=ph[index-2]\n",
    "    index+=1\n",
    "wb.save(filename=\"contact_no.xlsx\")"
   ]
  },
  {
   "cell_type": "code",
   "execution_count": 38,
   "metadata": {},
   "outputs": [],
   "source": [
    "#task 5 c)from XML file\n",
    "import openpyxl\n",
    "import xml.etree.ElementTree as ET\n",
    "tree=ET.parse(r\"C:\\\\Users\\\\mailm\\\\sample_CustomersOrders.xml\")\n",
    "root=tree.getroot()\n",
    "from openpyxl import load_workbook\n",
    "wb=load_workbook(filename=\"contact_no.xlsx\")\n",
    "ws=wb.active\n",
    "ws[\"C1\"]=\"Mobile Numbers from xml\"\n",
    "col=\"C\"\n",
    "index=2\n",
    "for child in root:\n",
    "    for grandchild in child:\n",
    "        for abc in grandchild:\n",
    "            if(abc.tag=='Phone'):\n",
    "                cell=col+str(index)\n",
    "                ws[cell]=abc.text\n",
    "                index+=1\n",
    "wb.save(filename=\"contact_no.xlsx\")"
   ]
  },
  {
   "cell_type": "code",
   "execution_count": null,
   "metadata": {},
   "outputs": [],
   "source": []
  }
 ],
 "metadata": {
  "kernelspec": {
   "display_name": "Python 3",
   "language": "python",
   "name": "python3"
  },
  "language_info": {
   "codemirror_mode": {
    "name": "ipython",
    "version": 3
   },
   "file_extension": ".py",
   "mimetype": "text/x-python",
   "name": "python",
   "nbconvert_exporter": "python",
   "pygments_lexer": "ipython3",
   "version": "3.8.5"
  }
 },
 "nbformat": 4,
 "nbformat_minor": 5
}
