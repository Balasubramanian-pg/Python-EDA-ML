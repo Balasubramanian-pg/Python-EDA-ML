{
 "cells": [
  {
   "cell_type": "markdown",
   "metadata": {},
   "source": [
    "## Requirements for Running the Code\n",
    "\n",
    "### 1. **Python Environment:**\n",
    "* Ensure you have Python installed on your system. The code is likely written for Python 3.\n",
    "* If you don't have Python, download and install it from [https://www.python.org/downloads/](https://www.python.org/downloads/)\n",
    "\n",
    "### 2. **nanonets Library:**\n",
    "* This library is required to interact with the NanoNets OCR API.\n",
    "* Install it using pip:\n",
    "  ```bash\n",
    "  pip install nanonets\n",
    "  ```\n",
    "\n",
    "### 3. **NanoNets API Token:**\n",
    "* You need a valid API token from NanoNets to use their OCR service.\n",
    "* Create a NanoNets account at [https://nanonets.com](https://nanonets.com) and generate an API token.\n",
    "* Replace the placeholder token in the code with your actual API token.\n",
    "\n",
    "### 4. **Image or Document:**\n",
    "* To perform OCR, you'll need an image or document containing text.\n",
    "* Make sure the image or document is in a supported format (e.g., JPEG, PNG, PDF).\n",
    "\n",
    "### Steps to Execute the Code:\n",
    "\n",
    "1. **Set up Environment:**\n",
    "   * Install Python and the `nanonets` library.\n",
    "   * Obtain your NanoNets API token.\n",
    "\n",
    "2. **Create Python Script:**\n",
    "   * Create a Python script (e.g., `ocr.py`) and paste the provided code into it.\n",
    "   * Replace the placeholder API token with your actual token.\n",
    "\n",
    "3. **Import Image or Document:**\n",
    "   * Add code to load the image or document you want to process.\n",
    "\n",
    "4. **Perform OCR:**\n",
    "   * Use the `model` object to perform OCR on the image or document.\n",
    "\n",
    "5. **Process Results:**\n",
    "   * Extract the recognized text from the OCR results and process it as needed.\n",
    "\n",
    "**Remember to replace `'YOUR_API_TOKEN'` with your actual NanoNets API token.**\n",
    "\n",
    "By following these steps and providing the necessary inputs, you can successfully use the NanoNets OCR library to extract text from images or documents.\n",
    " \n",
    "**Would you like to see an example of how to perform OCR on an image using this code?**\n"
   ]
  },
  {
   "cell_type": "markdown",
   "metadata": {},
   "source": [
    "**Import Necessary Library:**\n",
    "* `from nanonets import NANONETSOCR`: This line imports the `NANONETSOCR` class from the `nanonets` library, which is used for interacting with the NanoNets OCR API.\n",
    "\n",
    "**Create OCR Model Instance:**\n",
    "* `model = NANONETSOCR()`: This line creates an instance of the `NANONETSOCR` class, which represents an OCR model.\n",
    "\n",
    "**Set API Token:**\n",
    "* `model.set_token('6a7c8b27-466b-11ef-b890-76cd27428090')`: This line sets the API token for the OCR model. This token is required to authenticate with the NanoNets API and use their OCR services. Replace the placeholder token with your actual NanoNets API token.\n",
    "\n",
    "**Overall Purpose:**\n",
    "This code snippet initializes a NanoNets OCR model and sets the API token for subsequent interactions with the NanoNets OCR API. It's a foundational step for using the NanoNets OCR library in a Python project.\n",
    "\n",
    "**Additional Notes:**\n",
    "* This code doesn't perform any OCR tasks yet. It only sets up the environment for using the NanoNets OCR API.\n",
    "* To actually use the OCR model, you would typically provide an image or document to the model and call a method to extract the text from it.\n"
   ]
  },
  {
   "cell_type": "code",
   "execution_count": 36,
   "metadata": {},
   "outputs": [],
   "source": [
    "from nanonets import NANONETSOCR\n",
    "model = NANONETSOCR()\n",
    "model.set_token('30193b39-4a51-11ef-881f-9e5ebdfefca0')"
   ]
  },
  {
   "cell_type": "code",
   "execution_count": 72,
   "metadata": {},
   "outputs": [
    {
     "name": "stdout",
     "output_type": "stream",
     "text": [
      "      LIBAS FASHIONS PRIVATE LIMITED\n",
      "\n",
      "    PROFIT AND LOSS ACCOUNT FORTHE YEAR ENDING 31.03.2021\n",
      "          Year ending Year ending\n",
      " PARTICULARS     Notes 31.03.2021 31.03.2020\n",
      " Revenue from operations    14 26,243,106.35 42,575,540.97\n",
      " Other Income      15 24,667.00 32,486.00\n",
      "      Total Revenue 26.267,773.35 42,608.026.97\n",
      " Expenses\n",
      " Cost of materials consumed    16 21.207.944.61 35,847.133.25\n",
      " Employee benefit expense    17 2,384,977.00 3,565,015.00\n",
      " Financial costs      18 396.996.24 453,404.55\n",
      " Depreciation and amortization expense   4 1,179.402.00 1,715.538.62\n",
      " Other expenses      19 953,063.15 2,458.200.77\n",
      "      Total Expenses 26.122.383.00 44,039.292.19\n",
      "\n",
      " Profit before tax        145,390.35 (1,431,265.22\n",
      "\n",
      " Tax expense\n",
      " (1 Current Tax        14.000.00\n",
      " 2. Previous Year\n",
      " (3)\n",
      " I Deferred Tax Asset       (19.272.00 63,674.00\n",
      "\n",
      " Profit/(Loss) for the period      112.118. .35 - 1,367.591.22)\n",
      "\n",
      " Earning per equity share\n",
      "  - 1) Basic         5.61   (68.38\n"
     ]
    }
   ],
   "source": [
    "# PDF / Image to String\n",
    "string = model.convert_to_string(r\"C:\\Users\\ASUS\\Downloads\\law-master\\FY20-21 PL.jpg\")\n",
    "print(string)"
   ]
  },
  {
   "cell_type": "code",
   "execution_count": 73,
   "metadata": {},
   "outputs": [
    {
     "name": "stdout",
     "output_type": "stream",
     "text": [
      "    LIBAS FASHIONS PRIVATE LIMITED\n",
      "\n",
      "   PROFIT AND LOSS ACCOUNT FOR THE YEAR ENDING 31.03.2019\n",
      "       Year ending Year ending\n",
      "PARTICULARS    Notes 31,03.2019 31,03.2018\n",
      "Revenue from operations   14 55.004.419.16 50.303.098.79\n",
      "Other Income    15 1.164.204.87 35,080.00\n",
      "    Total Revenue 56.168,624.03 50,338.178.79\n",
      "Expenses\n",
      "Cost of materials consumed   16 40,805,955.36 34,371.425.44\n",
      "Employee benefit expense   17 5.519.620.00 6,146,844.00\n",
      "Financial costs    18 399,363.01 509,548.87\n",
      "Depreciation and amortization expense I 1.735.760.77 1,381.095.76\n",
      "Other expenses    19 6.660.537.92 6.915,972.99\n",
      "    Total Expenses 55.121,237.06 49,324,887.06\n",
      "\n",
      "Profit before tax     1,047,386.97 1.013.291.73\n",
      "\n",
      "Tax expense a\n",
      "(1) Current Tax      210.000.00 250,000.00\n",
      "(2) Previous Year        11.062.00\n",
      "(3) Deferred Tax Asset     40,511.00 (980.00 0)\n",
      "\n",
      "Profit/ (Loss) for the period     877.897.97 751.249.73\n",
      "\n",
      "Earning per equity share\n",
      " 1 Basic      43.89 37.56\n"
     ]
    }
   ],
   "source": [
    "# PDF / Image to String\n",
    "string = model.convert_to_string(r\"C:\\Users\\ASUS\\Downloads\\law-master\\FY18-19 PL.jpg\")\n",
    "print(string)"
   ]
  },
  {
   "cell_type": "code",
   "execution_count": 74,
   "metadata": {},
   "outputs": [
    {
     "name": "stdout",
     "output_type": "stream",
     "text": [
      "      LIBAS FASHIONS PRIVATE LIMITED\n",
      "             (Rs. In Thousands I\n",
      "    PROFIT AND LOSS ACCOUNT FOR THE YEAR ENDING 31.03.2023\n",
      "          Year ending Year ending\n",
      " PARTICULARS     Notes 31.03.2023 31.03.2022\n",
      " Revenue from operations    14   7181.20 11284.45\n",
      " Other Income      15   3.27   44.41\n",
      "       Total Income   7184.47 11328.85\n",
      " Expenses\n",
      " Cost of materials consumed    16   6930.82   9241.69\n",
      " Employee benefit expense    17   602.69   852.54\n",
      " Financial costs      18   307.40   373.92\n",
      " Depreciation and amortization expense   4   554.09   974.63\n",
      " Other expenses      19   132.05   323.66\n",
      "      Total Expenses   8527.05 11766.44\n",
      "\n",
      " Profit before tax        -1342.58   -437.58\n",
      "\n",
      " Tax expense\n",
      " (1 Current Tax         0.00   0.00\n",
      " (2) Previous Year         0.00   -9.73\n",
      " (3) Deferred Tax Asset        -89.77   -23.95\n",
      " (4) Other provisions        0.00   3254.09\n",
      " Profit/(Loss) for the period       -1432.35 -3705.90\n",
      "\n",
      " Earning per equity share\n",
      "  (1) Basic         (71.62   (185.29\n"
     ]
    }
   ],
   "source": [
    "# PDF / Image to String\n",
    "string = model.convert_to_string(r\"C:\\Users\\ASUS\\Downloads\\law-master\\FY22-23 PL.jpg\")\n",
    "print(string)"
   ]
  },
  {
   "cell_type": "code",
   "execution_count": 68,
   "metadata": {},
   "outputs": [
    {
     "name": "stdout",
     "output_type": "stream",
     "text": [
      " Statement of profit and loss\n",
      " for the year ended 31 March 2020\n",
      " (Currency ?          Note No 31 March 2020 31 March 2019\n",
      "\n",
      " Revenue from operations         16 25.31.73.338 14.00.39.894\n",
      " Other income           17   5.04.709 4.63.988\n",
      " Total revenue             25,36,78,047 14,05.03.882\n",
      "\n",
      " Expenses\n",
      " Cost ofsales\n",
      " Purchases ofstock in trade         18 9.73.47.964 4.14.31.071\n",
      " Changes in inventories of finished goods, work-in-progress and stock-in -trade 19   3,52,158 57.57.568\n",
      " Employee benefits expense         20 2,59.54.707 1,62.07,108\n",
      " Finance costs           21   20,97.904 19.96.543\n",
      " Depreciation and amortisation        8   27,95.414 21.28.940\n",
      " Other expenses           22 12,38.39,823 7.21.63.677\n",
      " Total expenses             25,23.87.970 13,96.84.907\n",
      " Profit before prior period adiustments, exceptional item & tax      12,90,077 8.18.975\n",
      " Add / (Less) Prior period adjustments              (3,03.730\n",
      "   Exceptional item\n",
      " Profit before tax             12,90.077 5.15.245\n",
      " Less Provision for deferred tax\n",
      " Less Provision for income tax            5,02,999 2,06.010\n",
      " Profit after tax              7.87,078 3.09.235\n",
      " Profit in profit and loss brought forward         18.05.184 14.95.949\n",
      " Profit in profit and loss carried forward         25.92,261 18.05.184\n",
      " Earnings per equity share of *10 each       23\n",
      " Basic                78.71   30.92\n",
      " Diluted               78.71   30.92\n"
     ]
    }
   ],
   "source": [
    "# PDF / Image to String\n",
    "string = model.convert_to_string(r\"C:\\Users\\ASUS\\Downloads\\Model Dashboard\\FY19-20 PL.jpg\")\n",
    "print(string)"
   ]
  }
 ],
 "metadata": {
  "kernelspec": {
   "display_name": "Python 3",
   "language": "python",
   "name": "python3"
  },
  "language_info": {
   "codemirror_mode": {
    "name": "ipython",
    "version": 3
   },
   "file_extension": ".py",
   "mimetype": "text/x-python",
   "name": "python",
   "nbconvert_exporter": "python",
   "pygments_lexer": "ipython3",
   "version": "3.12.4"
  }
 },
 "nbformat": 4,
 "nbformat_minor": 2
}
